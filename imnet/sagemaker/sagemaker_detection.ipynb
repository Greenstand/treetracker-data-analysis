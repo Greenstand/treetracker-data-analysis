{
 "cells": [
  {
   "cell_type": "code",
   "execution_count": 1,
   "metadata": {},
   "outputs": [
    {
     "name": "stdout",
     "output_type": "stream",
     "text": [
      "Version  is good\n",
      "Region = eu-central-1\n"
     ]
    }
   ],
   "source": [
    "import boto3\n",
    "import sagemaker\n",
    "from sagemaker import get_execution_role\n",
    "# from sagemaker.image_uris import retrieve\n",
    "from sagemaker.s3 import *\n",
    "import sys\n",
    "import subprocess\n",
    "import os\n",
    "\n",
    "\n",
    "# TODO: Port the training job to Sa1gemaker 2.0. For now, this works fine. \n",
    "if int(sagemaker.__version__.split('.')[0]) == 2:\n",
    "    !{sys.executable} -m pip install sagemaker==1.72.0\n",
    "    print(\"Installing previous SageMaker Version. Please restart the kernel\")\n",
    "else:\n",
    "    print(\"Version  is good\")\n",
    "\n",
    "role = get_execution_role()\n",
    "\n",
    "\n",
    "sess = sagemaker.Session(default_bucket=None)\n",
    "region = boto3.session.Session().region_name\n",
    "print(\"Region = {}\".format(region))\n",
    "\n",
    "sm = boto3.Session().client('sagemaker')\n"
   ]
  },
  {
   "cell_type": "code",
   "execution_count": 2,
   "metadata": {},
   "outputs": [
    {
     "name": "stdout",
     "output_type": "stream",
     "text": [
      "Preprocessing image:  763104351884.dkr.ecr.eu-central-1.amazonaws.com/pytorch-training:1.6.0-cpu-py36-ubuntu16.04\n",
      "Training image:  763104351884.dkr.ecr.eu-central-1.amazonaws.com/pytorch-training:1.6.0-gpu-py36-cu110-ubuntu16.04\n"
     ]
    }
   ],
   "source": [
    "\n",
    "# see https://sagemaker.readthedocs.io/en/stable/api/utility/image_uris.html for which inputs to use\n",
    "# see https://github.com/aws/deep-learning-containers/blob/master/available_images.md for registry paths with custom algorithms\n",
    "prefix = \"763104351884.dkr.ecr.eu-central-1.amazonaws.com/pytorch-training\"\n",
    "PREPROCESSING_IMAGE = \"{}:{}\".format(prefix, \"1.6.0-cpu-py36-ubuntu16.04\")\n",
    "PREPROCESS_INSTANCE = \"ml.m5.xlarge\"\n",
    "\n",
    "\n",
    "TRAINING_IMAGE = \"{}:{}\".format(prefix, \"1.6.0-gpu-py36-cu110-ubuntu16.04\")\n",
    "TRAINING_INSTANCE = \"ml.g4dn.xlarge\" \n",
    "\n",
    "print (\"Preprocessing image: \", PREPROCESSING_IMAGE)\n",
    "print (\"Training image: \", TRAINING_IMAGE)\n",
    "\n"
   ]
  },
  {
   "cell_type": "markdown",
   "metadata": {},
   "source": []
  },
  {
   "cell_type": "code",
   "execution_count": 3,
   "metadata": {},
   "outputs": [
    {
     "name": "stdout",
     "output_type": "stream",
     "text": [
      "Collecting sagemaker-experiments\n",
      "  Using cached sagemaker_experiments-0.1.25-py3-none-any.whl (40 kB)\n",
      "Requirement already satisfied: boto3>=1.16.27 in /home/ec2-user/anaconda3/envs/pytorch_p36/lib/python3.6/site-packages (from sagemaker-experiments) (1.16.37)\n",
      "Requirement already satisfied: botocore<1.20.0,>=1.19.37 in /home/ec2-user/anaconda3/envs/pytorch_p36/lib/python3.6/site-packages (from boto3>=1.16.27->sagemaker-experiments) (1.19.37)\n",
      "Requirement already satisfied: jmespath<1.0.0,>=0.7.1 in /home/ec2-user/anaconda3/envs/pytorch_p36/lib/python3.6/site-packages (from boto3>=1.16.27->sagemaker-experiments) (0.10.0)\n",
      "Requirement already satisfied: s3transfer<0.4.0,>=0.3.0 in /home/ec2-user/anaconda3/envs/pytorch_p36/lib/python3.6/site-packages (from boto3>=1.16.27->sagemaker-experiments) (0.3.3)\n",
      "Requirement already satisfied: python-dateutil<3.0.0,>=2.1 in /home/ec2-user/anaconda3/envs/pytorch_p36/lib/python3.6/site-packages (from botocore<1.20.0,>=1.19.37->boto3>=1.16.27->sagemaker-experiments) (2.8.1)\n",
      "Requirement already satisfied: jmespath<1.0.0,>=0.7.1 in /home/ec2-user/anaconda3/envs/pytorch_p36/lib/python3.6/site-packages (from boto3>=1.16.27->sagemaker-experiments) (0.10.0)\n",
      "Requirement already satisfied: urllib3<1.27,>=1.25.4 in /home/ec2-user/anaconda3/envs/pytorch_p36/lib/python3.6/site-packages (from botocore<1.20.0,>=1.19.37->boto3>=1.16.27->sagemaker-experiments) (1.25.11)\n",
      "Requirement already satisfied: six>=1.5 in /home/ec2-user/anaconda3/envs/pytorch_p36/lib/python3.6/site-packages (from python-dateutil<3.0.0,>=2.1->botocore<1.20.0,>=1.19.37->boto3>=1.16.27->sagemaker-experiments) (1.15.0)\n",
      "Requirement already satisfied: botocore<1.20.0,>=1.19.37 in /home/ec2-user/anaconda3/envs/pytorch_p36/lib/python3.6/site-packages (from boto3>=1.16.27->sagemaker-experiments) (1.19.37)\n",
      "Installing collected packages: sagemaker-experiments\n",
      "Successfully installed sagemaker-experiments-0.1.25\n",
      "\u001b[33mWARNING: You are using pip version 20.3; however, version 20.3.3 is available.\n",
      "You should consider upgrading via the '/home/ec2-user/anaconda3/envs/pytorch_p36/bin/python -m pip install --upgrade pip' command.\u001b[0m\n"
     ]
    }
   ],
   "source": [
    "!pip install sagemaker-experiments \n",
    "from sagemaker.analytics import ExperimentAnalytics\n",
    "from smexperiments.experiment import Experiment\n",
    "from smexperiments.trial import Trial\n",
    "from smexperiments.trial_component import TrialComponent\n",
    "from smexperiments.tracker import Tracker"
   ]
  },
  {
   "cell_type": "code",
   "execution_count": 4,
   "metadata": {},
   "outputs": [],
   "source": [
    "sagemaker_local_bucket = sess.default_bucket() # Alternatively you can use our custom bucket here. \n",
    "original_data_bucket = \"treetracker-training-images\"\n",
    "prefix = 'sagemaker-modelmonitor' # use this prefix to store all files pertaining to this workshop.\n",
    "\n",
    "dataprefix = prefix + '/data'\n",
    "traindataprefix = prefix + '/train_data'\n",
    "testdataprefix = prefix + '/test_data'\n",
    "testdatanolabelprefix = prefix + '/test_data_no_label'\n",
    "trainheaderprefix = prefix + '/train_headers'\n",
    "\n",
    "dataset_key = \"imnet\" # use this to restrict to a particular directory\n",
    "train_key = \"train\"\n",
    "validation_key = \"validation\"\n",
    "test_key = \"test\"\n",
    "s3_raw = 's3://{}/{}/'.format(original_data_bucket, dataset_key)\n",
    "sagemaker_train = 's3://{}/{}/'.format(sagemaker_local_bucket, train_key)\n",
    "sagemaker_validation = 's3://{}/{}/'.format(sagemaker_local_bucket, validation_key)\n",
    "sagemaker_test = 's3://{}/{}/'.format(sagemaker_local_bucket, test_key)\n",
    "\n",
    "os.environ[\"SAGEMAKER_VALIDATION\"] = sagemaker_validation\n",
    "os.environ[\"SAGEMAKER_TRAIN\"] = sagemaker_train\n",
    "os.environ[\"SAGEMAKER_TEST\"] = sagemaker_test"
   ]
  },
  {
   "cell_type": "code",
   "execution_count": 21,
   "metadata": {},
   "outputs": [],
   "source": [
    "!aws s3 rm $SAGEMAKER_VALIDATION --recursive --quiet\n",
    "!aws s3 rm $SAGEMAKER_TRAIN --recursive --quiet\n",
    "!aws s3 rm $SAGEMAKER_TEST --recursive --quiet\n"
   ]
  },
  {
   "cell_type": "code",
   "execution_count": 22,
   "metadata": {},
   "outputs": [],
   "source": [
    "# TODO: Figure out preprocessing instance jobs\n",
    "from sagemaker.processing import ProcessingInput, ProcessingOutput\n",
    "from sagemaker.processing import ScriptProcessor\n",
    "\n",
    "pre_input = [ProcessingInput(source=s3_raw, destination=\"/opt/ml/processing/raw/\", input_name=\"raw\")]\n",
    "pre_output = [ProcessingOutput(source=\"/opt/ml/processing/train/\", destination=sagemaker_train),\n",
    "              ProcessingOutput(source=\"/opt/ml/processing/validation/\", destination=sagemaker_validation),\n",
    "              ProcessingOutput(source=\"/opt/ml/processing/test/\", destination=sagemaker_test)]\n",
    "            \n",
    "              \n",
    "script_processor = ScriptProcessor(command= [\"python\"], \n",
    "                                    image_uri=PREPROCESSING_IMAGE,\n",
    "                                    role=role,\n",
    "                                    instance_count=1,\n",
    "                                    instance_type=PREPROCESS_INSTANCE,\n",
    "                                    base_job_name=\"preprocessing-test\", \n",
    "                                    max_runtime_in_seconds=7200)\n",
    "\n",
    "preprocessing_script = \"preprocessing_p1.py\" # Put path to preprocessing script here"
   ]
  },
  {
   "cell_type": "code",
   "execution_count": 23,
   "metadata": {},
   "outputs": [
    {
     "name": "stderr",
     "output_type": "stream",
     "text": [
      "WARNING:sagemaker:Parameter 'session' will be renamed to 'sagemaker_session' in SageMaker Python SDK v2.\n",
      "INFO:sagemaker:Creating processing-job with name preprocessing-test-2021-01-19-00-42-58-482\n"
     ]
    },
    {
     "name": "stdout",
     "output_type": "stream",
     "text": [
      "\n",
      "Job Name:  preprocessing-test-2021-01-19-00-42-58-482\n",
      "Inputs:  [{'InputName': 'raw', 'S3Input': {'S3Uri': 's3://treetracker-training-images/imnet/', 'LocalPath': '/opt/ml/processing/raw/', 'S3DataType': 'S3Prefix', 'S3InputMode': 'File', 'S3DataDistributionType': 'FullyReplicated', 'S3CompressionType': 'None'}}, {'InputName': 'code', 'S3Input': {'S3Uri': 's3://sagemaker-eu-central-1-053061259712/preprocessing-test-2021-01-19-00-42-58-482/input/code/preprocessing_p1.py', 'LocalPath': '/opt/ml/processing/input/code', 'S3DataType': 'S3Prefix', 'S3InputMode': 'File', 'S3DataDistributionType': 'FullyReplicated', 'S3CompressionType': 'None'}}]\n",
      "Outputs:  [{'OutputName': 'output-1', 'S3Output': {'S3Uri': 's3://sagemaker-eu-central-1-053061259712/train/', 'LocalPath': '/opt/ml/processing/train/', 'S3UploadMode': 'EndOfJob'}}, {'OutputName': 'output-2', 'S3Output': {'S3Uri': 's3://sagemaker-eu-central-1-053061259712/validation/', 'LocalPath': '/opt/ml/processing/validation/', 'S3UploadMode': 'EndOfJob'}}, {'OutputName': 'output-3', 'S3Output': {'S3Uri': 's3://sagemaker-eu-central-1-053061259712/test/', 'LocalPath': '/opt/ml/processing/test/', 'S3UploadMode': 'EndOfJob'}}]\n",
      "...................................................................\u001b[34mSkipping class desk\u001b[0m\n",
      "\u001b[34mImg paths preview: \n",
      "                species  ...                                    annotation_path\u001b[0m\n",
      "\u001b[34mn12513613_10932   judas  ...  /opt/ml/processing/raw/bounding_boxes/judas/An...\u001b[0m\n",
      "\u001b[34mn12513613_4125    judas  ...                                               None\u001b[0m\n",
      "\u001b[34mn12513613_7503    judas  ...  /opt/ml/processing/raw/bounding_boxes/judas/An...\u001b[0m\n",
      "\u001b[34mn12513613_8152    judas  ...                                               None\u001b[0m\n",
      "\u001b[34mn12513613_2575    judas  ...  /opt/ml/processing/raw/bounding_boxes/judas/An...\n",
      "\u001b[0m\n",
      "\u001b[34m[5 rows x 5 columns]\u001b[0m\n",
      "\u001b[34mTotal num images:  41883\u001b[0m\n",
      "\u001b[34mNum annotated images:  7958\u001b[0m\n",
      "\u001b[34mNum tree images:  41883\u001b[0m\n",
      "\u001b[34mProcessing class  judas\u001b[0m\n",
      "\u001b[34mProcessing class  palm\u001b[0m\n",
      "\u001b[34mProcessing class  pine\u001b[0m\n",
      "\u001b[34mProcessing class  china tree\u001b[0m\n",
      "\u001b[34mProcessing class  fig\u001b[0m\n",
      "\u001b[34mProcessing class  cabbage\u001b[0m\n",
      "\u001b[34mProcessing class  cacao\u001b[0m\n",
      "\u001b[34mProcessing class  kapok\u001b[0m\n",
      "\u001b[34mProcessing class  iron\u001b[0m\n",
      "\u001b[34mProcessing class  linden\u001b[0m\n",
      "\u001b[34mProcessing class  pepper\u001b[0m\n",
      "\u001b[34mProcessing class  rain\u001b[0m\n",
      "\u001b[34mProcessing class  dita\u001b[0m\n",
      "\u001b[34mProcessing class  alder\u001b[0m\n",
      "\u001b[34mProcessing class  silk\u001b[0m\n",
      "\u001b[34mProcessing class  coral\u001b[0m\n",
      "\u001b[34mProcessing class  huisache\u001b[0m\n",
      "\u001b[34mProcessing class  fringe\u001b[0m\n",
      "\u001b[34mProcessing class  dogwood\u001b[0m\n",
      "\u001b[34mProcessing class  cork\u001b[0m\n",
      "\u001b[34mProcessing class  ginkgo\u001b[0m\n",
      "\u001b[34mProcessing class  golden shower\u001b[0m\n",
      "\u001b[34mProcessing class  balata\u001b[0m\n",
      "\u001b[34mProcessing class  baobab\u001b[0m\n",
      "\u001b[34mProcessing class  sorrel\u001b[0m\n",
      "\u001b[34mProcessing class  Japanese pagoda\u001b[0m\n",
      "\u001b[34mProcessing class  Kentucky coffee\u001b[0m\n",
      "\u001b[34mProcessing class  Logwood\u001b[0m\n",
      "\u001b[34mProcessing class  garbage_bin\u001b[0m\n",
      "\u001b[34mProcessing class  carion_fungus\u001b[0m\n",
      "\u001b[34mProcessing class  basidiomycetous_fungus\u001b[0m\n",
      "\u001b[34m/opt/conda/lib/python3.6/site-packages/PIL/TiffImagePlugin.py:788: UserWarning: Corrupt EXIF data.  Expecting to read 4 bytes but only got 0. \n",
      "  warnings.warn(str(msg))\u001b[0m\n",
      "\u001b[34mProcessing class  jelly_fungus\u001b[0m\n",
      "\u001b[34mProcessing class  desktop_computer\u001b[0m\n",
      "\u001b[34mProcessing class  laptop_computer\u001b[0m\n",
      "\u001b[34mProcessing class  cellphone\u001b[0m\n",
      "\u001b[34mProcessing class  desk\u001b[0m\n",
      "\u001b[34mProcessing class  station_wagon\u001b[0m\n",
      "\u001b[34mProcessing class  pickup_truck\u001b[0m\n",
      "\u001b[34mProcessing class  trailer_truck\u001b[0m\n",
      "\u001b[34m/opt/conda/lib/python3.6/site-packages/PIL/TiffImagePlugin.py:788: UserWarning: Corrupt EXIF data.  Expecting to read 4 bytes but only got 0. \n",
      "  warnings.warn(str(msg))\u001b[0m\n",
      "\u001b[34mProcessing class  judas\u001b[0m\n",
      "\u001b[34mProcessing class  palm\u001b[0m\n",
      "\u001b[34mProcessing class  pine\u001b[0m\n",
      "\u001b[34mProcessing class  china tree\u001b[0m\n",
      "\u001b[34mProcessing class  fig\u001b[0m\n",
      "\u001b[34mProcessing class  cabbage\u001b[0m\n",
      "\u001b[34mProcessing class  cacao\u001b[0m\n",
      "\u001b[34mProcessing class  kapok\u001b[0m\n",
      "\u001b[34mProcessing class  iron\u001b[0m\n",
      "\u001b[34mProcessing class  linden\u001b[0m\n",
      "\u001b[34mProcessing class  pepper\u001b[0m\n",
      "\u001b[34m/opt/conda/lib/python3.6/site-packages/PIL/TiffImagePlugin.py:788: UserWarning: Corrupt EXIF data.  Expecting to read 2 bytes but only got 0. \n",
      "  warnings.warn(str(msg))\u001b[0m\n",
      "\u001b[34mProcessing class  rain\u001b[0m\n",
      "\u001b[34mProcessing class  dita\u001b[0m\n",
      "\u001b[34mProcessing class  alder\u001b[0m\n",
      "\u001b[34mProcessing class  silk\u001b[0m\n",
      "\u001b[34mProcessing class  coral\u001b[0m\n",
      "\u001b[34mProcessing class  huisache\u001b[0m\n",
      "\u001b[34mProcessing class  fringe\u001b[0m\n",
      "\u001b[34mProcessing class  dogwood\u001b[0m\n",
      "\u001b[34mProcessing class  cork\u001b[0m\n",
      "\u001b[34mProcessing class  ginkgo\u001b[0m\n",
      "\u001b[34mProcessing class  golden shower\u001b[0m\n",
      "\u001b[34mProcessing class  balata\u001b[0m\n",
      "\u001b[34mProcessing class  baobab\u001b[0m\n",
      "\u001b[34mProcessing class  sorrel\u001b[0m\n",
      "\u001b[34mProcessing class  Japanese pagoda\u001b[0m\n",
      "\u001b[34mProcessing class  Kentucky coffee\u001b[0m\n",
      "\u001b[34mProcessing class  Logwood\u001b[0m\n",
      "\u001b[34mProcessing class  garbage_bin\u001b[0m\n",
      "\u001b[34mProcessing class  carion_fungus\u001b[0m\n",
      "\u001b[34mProcessing class  basidiomycetous_fungus\u001b[0m\n",
      "\u001b[34mProcessing class  jelly_fungus\u001b[0m\n",
      "\u001b[34mProcessing class  desktop_computer\u001b[0m\n",
      "\u001b[34mProcessing class  laptop_computer\u001b[0m\n",
      "\u001b[34mProcessing class  cellphone\u001b[0m\n",
      "\u001b[34mProcessing class  desk\u001b[0m\n",
      "\u001b[34mProcessing class  station_wagon\u001b[0m\n",
      "\u001b[34mProcessing class  pickup_truck\u001b[0m\n",
      "\u001b[34mProcessing class  trailer_truck\u001b[0m\n",
      "\u001b[34mProcessing class  judas\u001b[0m\n",
      "\u001b[34mProcessing class  palm\u001b[0m\n",
      "\u001b[34mProcessing class  pine\u001b[0m\n",
      "\u001b[34mProcessing class  china tree\u001b[0m\n",
      "\u001b[34mProcessing class  fig\u001b[0m\n",
      "\u001b[34mProcessing class  cabbage\u001b[0m\n",
      "\u001b[34mProcessing class  cacao\u001b[0m\n",
      "\u001b[34mProcessing class  kapok\u001b[0m\n",
      "\u001b[34mProcessing class  iron\u001b[0m\n",
      "\u001b[34mProcessing class  linden\u001b[0m\n",
      "\u001b[34mProcessing class  pepper\u001b[0m\n",
      "\u001b[34mProcessing class  rain\u001b[0m\n",
      "\u001b[34mProcessing class  dita\u001b[0m\n",
      "\u001b[34mProcessing class  alder\u001b[0m\n",
      "\u001b[34mProcessing class  silk\u001b[0m\n",
      "\u001b[34mProcessing class  coral\u001b[0m\n",
      "\u001b[34mProcessing class  huisache\u001b[0m\n",
      "\u001b[34mProcessing class  fringe\u001b[0m\n",
      "\u001b[34mProcessing class  dogwood\u001b[0m\n",
      "\u001b[34mProcessing class  cork\u001b[0m\n",
      "\u001b[34mProcessing class  ginkgo\u001b[0m\n",
      "\u001b[34mProcessing class  golden shower\u001b[0m\n",
      "\u001b[34mProcessing class  balata\u001b[0m\n",
      "\u001b[34mProcessing class  baobab\u001b[0m\n",
      "\u001b[34mProcessing class  sorrel\u001b[0m\n",
      "\u001b[34mProcessing class  Japanese pagoda\u001b[0m\n",
      "\u001b[34mProcessing class  Kentucky coffee\u001b[0m\n",
      "\u001b[34mProcessing class  Logwood\u001b[0m\n",
      "\u001b[34mProcessing class  garbage_bin\u001b[0m\n",
      "\u001b[34mProcessing class  carion_fungus\u001b[0m\n",
      "\u001b[34mProcessing class  basidiomycetous_fungus\u001b[0m\n",
      "\u001b[34mProcessing class  jelly_fungus\u001b[0m\n",
      "\u001b[34mProcessing class  desktop_computer\u001b[0m\n",
      "\u001b[34mProcessing class  laptop_computer\u001b[0m\n",
      "\u001b[34mProcessing class  cellphone\u001b[0m\n",
      "\u001b[34mProcessing class  desk\u001b[0m\n",
      "\u001b[34mProcessing class  station_wagon\u001b[0m\n",
      "\u001b[34mProcessing class  pickup_truck\u001b[0m\n",
      "\u001b[34mProcessing class  trailer_truck\u001b[0m\n",
      "\n"
     ]
    }
   ],
   "source": [
    "script_processor.run(preprocessing_script, \n",
    "                    inputs=pre_input,\n",
    "                    outputs=pre_output,\n",
    "                    arguments=None)\n",
    "\n",
    "# default arguments in script should work for now"
   ]
  },
  {
   "cell_type": "code",
   "execution_count": null,
   "metadata": {},
   "outputs": [],
   "source": [
    "## TODO: Add step for RecordIO format "
   ]
  },
  {
   "cell_type": "code",
   "execution_count": 11,
   "metadata": {},
   "outputs": [],
   "source": [
    "from sagemaker.pytorch import PyTorch\n",
    "\n",
    "# This is where you can add hyperparameters, framework used, point to the script, and define instances you want to train on. \n",
    "# ALl of this information is represented as environment variables passed to the instance. In your script, you can refer to these variables or \n",
    "# the argument. \n",
    "\n",
    "# TODO: add metric monitoring via CloudWatch \n",
    "# https://docs.aws.amazon.com/sagemaker/latest/dg/training-metrics.html\n",
    "estimator = PyTorch(entry_point='mobilenet_v2.py',\n",
    "                    role=role,\n",
    "                    framework_version='1.6.0',\n",
    "                    train_instance_count=1,\n",
    "                    train_instance_type=TRAINING_INSTANCE,\n",
    "                    hyperparameters={\n",
    "                        'epochs': 5,\n",
    "                        'backend': 'gloo',\n",
    "                        'train_split': 0.7, \n",
    "                        'log_interval': 200\n",
    "                    },                   \n",
    "                   )\n"
   ]
  },
  {
   "cell_type": "code",
   "execution_count": null,
   "metadata": {},
   "outputs": [
    {
     "name": "stderr",
     "output_type": "stream",
     "text": [
      "WARNING:sagemaker:'create_image_uri' will be deprecated in favor of 'ImageURIProvider' class in SageMaker Python SDK v2.\n",
      "WARNING:sagemaker:'s3_input' class will be renamed to 'TrainingInput' in SageMaker Python SDK v2.\n",
      "WARNING:sagemaker:'s3_input' class will be renamed to 'TrainingInput' in SageMaker Python SDK v2.\n",
      "WARNING:sagemaker:'s3_input' class will be renamed to 'TrainingInput' in SageMaker Python SDK v2.\n",
      "WARNING:sagemaker:'create_image_uri' will be deprecated in favor of 'ImageURIProvider' class in SageMaker Python SDK v2.\n",
      "INFO:sagemaker:Creating training-job with name: pytorch-training-2021-01-23-03-05-06-448\n"
     ]
    },
    {
     "name": "stdout",
     "output_type": "stream",
     "text": [
      "2021-01-23 03:05:06 Starting - Starting the training job...\n",
      "2021-01-23 03:05:09 Starting - Launching requested ML instances......\n",
      "2021-01-23 03:06:12 Starting - Preparing the instances for training...\n",
      "2021-01-23 03:07:05 Downloading - Downloading input data................................."
     ]
    }
   ],
   "source": [
    " estimator.fit({\"training\": sagemaker_train, \"validation\": sagemaker_validation, \"test\": sagemaker_test})"
   ]
  },
  {
   "cell_type": "markdown",
   "metadata": {},
   "source": []
  }
 ],
 "metadata": {
  "instance_type": "ml.t3.medium",
  "kernelspec": {
   "display_name": "conda_pytorch_p36",
   "language": "python",
   "name": "conda_pytorch_p36"
  },
  "language_info": {
   "codemirror_mode": {
    "name": "ipython",
    "version": 3
   },
   "file_extension": ".py",
   "mimetype": "text/x-python",
   "name": "python",
   "nbconvert_exporter": "python",
   "pygments_lexer": "ipython3",
   "version": "3.6.10"
  }
 },
 "nbformat": 4,
 "nbformat_minor": 4
}
